{
 "cells": [
  {
   "cell_type": "code",
   "execution_count": 1,
   "metadata": {
    "collapsed": true
   },
   "outputs": [],
   "source": [
    "from tensorflow.keras.preprocessing.image import ImageDataGenerator\n",
    "import cv2\n",
    "import os"
   ]
  },
  {
   "cell_type": "code",
   "execution_count": 15,
   "outputs": [],
   "source": [
    "using_magnification = '400X'\n",
    "base_dataset = \"binary_new_scenario\"\n",
    "class_dir = ['benign', 'malignant']\n",
    "type_dataset = ['test', 'train']\n",
    "train_path = os.path.join(base_dataset, 'train', using_magnification)\n",
    "test_path = os.path.join(base_dataset, 'test', using_magnification)"
   ],
   "metadata": {
    "collapsed": false,
    "pycharm": {
     "name": "#%%\n"
    }
   }
  },
  {
   "cell_type": "code",
   "execution_count": 18,
   "outputs": [],
   "source": [
    "generator = ImageDataGenerator(\n",
    "    width_shift_range=0.1,\n",
    "    height_shift_range=0.1,\n",
    "    shear_range=0.2,\n",
    "    zoom_range=0.2,\n",
    "    vertical_flip=True,\n",
    "    horizontal_flip=True)"
   ],
   "metadata": {
    "collapsed": false,
    "pycharm": {
     "name": "#%%\n"
    }
   }
  },
  {
   "cell_type": "code",
   "execution_count": 19,
   "outputs": [
    {
     "name": "stdout",
     "output_type": "stream",
     "text": [
      "[INFO] indexing file images BreaKHis dataset...\n"
     ]
    }
   ],
   "source": [
    "print(\"[INFO] indexing file images BreaKHis dataset...\")\n",
    "# indexing file images\n",
    "dataset_train = []\n",
    "dataset_test = []\n",
    "for type_set in type_dataset:\n",
    "    for class_item in class_dir:\n",
    "        cur_dir = os.path.join(base_dataset, type_set, using_magnification ,class_item)\n",
    "        for file in os.listdir(cur_dir):\n",
    "            if type_set == 'train':\n",
    "                dataset_train.append(os.path.join(cur_dir, file))\n",
    "            else:\n",
    "                dataset_test.append(os.path.join(cur_dir, file))"
   ],
   "metadata": {
    "collapsed": false,
    "pycharm": {
     "name": "#%%\n"
    }
   }
  },
  {
   "cell_type": "code",
   "execution_count": 32,
   "outputs": [
    {
     "name": "stdout",
     "output_type": "stream",
     "text": [
      "[INFO] augmentation BreaKHis dataset...\n"
     ]
    }
   ],
   "source": [
    "print(\"[INFO] augmentation BreaKHis dataset...\")\n",
    "#  load images\n",
    "for type_set in type_dataset:\n",
    "    cur_dataset = dataset_train if type_set == 'train' else dataset_test\n",
    "    for image_path in cur_dataset:\n",
    "        if \".png\" in image_path:\n",
    "            image = cv2.imread(image_path)\n",
    "            image = cv2.resize(image, (256, 256))\n",
    "            image = image.reshape(1, 256, 256, 3)\n",
    "            label = image_path.split('\\\\')[3]\n",
    "            save_path = os.path.join('augmentation', type_set, label)\n",
    "            generator.fit(image)\n",
    "            for x, val in zip(generator.flow(image,                    #image we chose\n",
    "                    save_to_dir=save_path,     #this is where we figure out where to save\n",
    "                     save_prefix='aug',        # it will save the images as 'aug_0912' some number for every new augmented image\n",
    "                    save_format='png'),range(10)) :     # here we define a range because we want 10 augmented images otherwise it will keep looping forever I think\n",
    "                pass"
   ],
   "metadata": {
    "collapsed": false,
    "pycharm": {
     "name": "#%%\n"
    }
   }
  },
  {
   "cell_type": "code",
   "execution_count": null,
   "outputs": [],
   "source": [],
   "metadata": {
    "collapsed": false,
    "pycharm": {
     "name": "#%%\n"
    }
   }
  }
 ],
 "metadata": {
  "kernelspec": {
   "display_name": "Python 3",
   "language": "python",
   "name": "python3"
  },
  "language_info": {
   "codemirror_mode": {
    "name": "ipython",
    "version": 2
   },
   "file_extension": ".py",
   "mimetype": "text/x-python",
   "name": "python",
   "nbconvert_exporter": "python",
   "pygments_lexer": "ipython2",
   "version": "2.7.6"
  }
 },
 "nbformat": 4,
 "nbformat_minor": 0
}